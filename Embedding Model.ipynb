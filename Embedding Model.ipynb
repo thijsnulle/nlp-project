{
 "cells": [
  {
   "cell_type": "markdown",
   "id": "21b87951",
   "metadata": {},
   "source": [
    "# Installing Dependencies"
   ]
  },
  {
   "cell_type": "code",
   "execution_count": 1,
   "id": "9ab48549",
   "metadata": {
    "scrolled": false
   },
   "outputs": [
    {
     "name": "stdout",
     "output_type": "stream",
     "text": [
      "Requirement already satisfied: datasets in /Users/koen/opt/anaconda3/envs/nlp-project/lib/python3.9/site-packages (2.12.0)\n",
      "Requirement already satisfied: pyarrow>=8.0.0 in /Users/koen/opt/anaconda3/envs/nlp-project/lib/python3.9/site-packages (from datasets) (12.0.0)\n",
      "Requirement already satisfied: pandas in /Users/koen/opt/anaconda3/envs/nlp-project/lib/python3.9/site-packages (from datasets) (2.0.1)\n",
      "Requirement already satisfied: xxhash in /Users/koen/opt/anaconda3/envs/nlp-project/lib/python3.9/site-packages (from datasets) (3.2.0)\n",
      "Requirement already satisfied: packaging in /Users/koen/opt/anaconda3/envs/nlp-project/lib/python3.9/site-packages (from datasets) (23.0)\n",
      "Requirement already satisfied: multiprocess in /Users/koen/opt/anaconda3/envs/nlp-project/lib/python3.9/site-packages (from datasets) (0.70.14)\n",
      "Requirement already satisfied: numpy>=1.17 in /Users/koen/opt/anaconda3/envs/nlp-project/lib/python3.9/site-packages (from datasets) (1.24.3)\n",
      "Requirement already satisfied: fsspec[http]>=2021.11.1 in /Users/koen/opt/anaconda3/envs/nlp-project/lib/python3.9/site-packages (from datasets) (2023.5.0)\n",
      "Requirement already satisfied: responses<0.19 in /Users/koen/opt/anaconda3/envs/nlp-project/lib/python3.9/site-packages (from datasets) (0.18.0)\n",
      "Requirement already satisfied: aiohttp in /Users/koen/opt/anaconda3/envs/nlp-project/lib/python3.9/site-packages (from datasets) (3.8.4)\n",
      "Requirement already satisfied: tqdm>=4.62.1 in /Users/koen/opt/anaconda3/envs/nlp-project/lib/python3.9/site-packages (from datasets) (4.65.0)\n",
      "Requirement already satisfied: dill<0.3.7,>=0.3.0 in /Users/koen/opt/anaconda3/envs/nlp-project/lib/python3.9/site-packages (from datasets) (0.3.6)\n",
      "Requirement already satisfied: pyyaml>=5.1 in /Users/koen/opt/anaconda3/envs/nlp-project/lib/python3.9/site-packages (from datasets) (6.0)\n",
      "Requirement already satisfied: requests>=2.19.0 in /Users/koen/opt/anaconda3/envs/nlp-project/lib/python3.9/site-packages (from datasets) (2.29.0)\n",
      "Requirement already satisfied: huggingface-hub<1.0.0,>=0.11.0 in /Users/koen/opt/anaconda3/envs/nlp-project/lib/python3.9/site-packages (from datasets) (0.14.1)\n",
      "Requirement already satisfied: aiosignal>=1.1.2 in /Users/koen/opt/anaconda3/envs/nlp-project/lib/python3.9/site-packages (from aiohttp->datasets) (1.3.1)\n",
      "Requirement already satisfied: yarl<2.0,>=1.0 in /Users/koen/opt/anaconda3/envs/nlp-project/lib/python3.9/site-packages (from aiohttp->datasets) (1.9.2)\n",
      "Requirement already satisfied: multidict<7.0,>=4.5 in /Users/koen/opt/anaconda3/envs/nlp-project/lib/python3.9/site-packages (from aiohttp->datasets) (6.0.4)\n",
      "Requirement already satisfied: charset-normalizer<4.0,>=2.0 in /Users/koen/opt/anaconda3/envs/nlp-project/lib/python3.9/site-packages (from aiohttp->datasets) (2.0.4)\n",
      "Requirement already satisfied: attrs>=17.3.0 in /Users/koen/opt/anaconda3/envs/nlp-project/lib/python3.9/site-packages (from aiohttp->datasets) (22.1.0)\n",
      "Requirement already satisfied: async-timeout<5.0,>=4.0.0a3 in /Users/koen/opt/anaconda3/envs/nlp-project/lib/python3.9/site-packages (from aiohttp->datasets) (4.0.2)\n",
      "Requirement already satisfied: frozenlist>=1.1.1 in /Users/koen/opt/anaconda3/envs/nlp-project/lib/python3.9/site-packages (from aiohttp->datasets) (1.3.3)\n",
      "Requirement already satisfied: filelock in /Users/koen/opt/anaconda3/envs/nlp-project/lib/python3.9/site-packages (from huggingface-hub<1.0.0,>=0.11.0->datasets) (3.12.0)\n",
      "Requirement already satisfied: typing-extensions>=3.7.4.3 in /Users/koen/opt/anaconda3/envs/nlp-project/lib/python3.9/site-packages (from huggingface-hub<1.0.0,>=0.11.0->datasets) (4.5.0)\n",
      "Requirement already satisfied: urllib3<1.27,>=1.21.1 in /Users/koen/opt/anaconda3/envs/nlp-project/lib/python3.9/site-packages (from requests>=2.19.0->datasets) (1.26.15)\n",
      "Requirement already satisfied: certifi>=2017.4.17 in /Users/koen/opt/anaconda3/envs/nlp-project/lib/python3.9/site-packages (from requests>=2.19.0->datasets) (2023.5.7)\n",
      "Requirement already satisfied: idna<4,>=2.5 in /Users/koen/opt/anaconda3/envs/nlp-project/lib/python3.9/site-packages (from requests>=2.19.0->datasets) (3.4)\n",
      "Requirement already satisfied: pytz>=2020.1 in /Users/koen/opt/anaconda3/envs/nlp-project/lib/python3.9/site-packages (from pandas->datasets) (2022.7)\n",
      "Requirement already satisfied: python-dateutil>=2.8.2 in /Users/koen/opt/anaconda3/envs/nlp-project/lib/python3.9/site-packages (from pandas->datasets) (2.8.2)\n",
      "Requirement already satisfied: tzdata>=2022.1 in /Users/koen/opt/anaconda3/envs/nlp-project/lib/python3.9/site-packages (from pandas->datasets) (2023.3)\n",
      "Requirement already satisfied: six>=1.5 in /Users/koen/opt/anaconda3/envs/nlp-project/lib/python3.9/site-packages (from python-dateutil>=2.8.2->pandas->datasets) (1.16.0)\n",
      "Requirement already satisfied: huggingface_hub in /Users/koen/opt/anaconda3/envs/nlp-project/lib/python3.9/site-packages (0.14.1)\n",
      "Requirement already satisfied: filelock in /Users/koen/opt/anaconda3/envs/nlp-project/lib/python3.9/site-packages (from huggingface_hub) (3.12.0)\n",
      "Requirement already satisfied: requests in /Users/koen/opt/anaconda3/envs/nlp-project/lib/python3.9/site-packages (from huggingface_hub) (2.29.0)\n",
      "Requirement already satisfied: typing-extensions>=3.7.4.3 in /Users/koen/opt/anaconda3/envs/nlp-project/lib/python3.9/site-packages (from huggingface_hub) (4.5.0)\n",
      "Requirement already satisfied: packaging>=20.9 in /Users/koen/opt/anaconda3/envs/nlp-project/lib/python3.9/site-packages (from huggingface_hub) (23.0)\n",
      "Requirement already satisfied: fsspec in /Users/koen/opt/anaconda3/envs/nlp-project/lib/python3.9/site-packages (from huggingface_hub) (2023.5.0)\n",
      "Requirement already satisfied: pyyaml>=5.1 in /Users/koen/opt/anaconda3/envs/nlp-project/lib/python3.9/site-packages (from huggingface_hub) (6.0)\n",
      "Requirement already satisfied: tqdm>=4.42.1 in /Users/koen/opt/anaconda3/envs/nlp-project/lib/python3.9/site-packages (from huggingface_hub) (4.65.0)\n",
      "Requirement already satisfied: urllib3<1.27,>=1.21.1 in /Users/koen/opt/anaconda3/envs/nlp-project/lib/python3.9/site-packages (from requests->huggingface_hub) (1.26.15)\n",
      "Requirement already satisfied: charset-normalizer<4,>=2 in /Users/koen/opt/anaconda3/envs/nlp-project/lib/python3.9/site-packages (from requests->huggingface_hub) (2.0.4)\n",
      "Requirement already satisfied: idna<4,>=2.5 in /Users/koen/opt/anaconda3/envs/nlp-project/lib/python3.9/site-packages (from requests->huggingface_hub) (3.4)\n",
      "Requirement already satisfied: certifi>=2017.4.17 in /Users/koen/opt/anaconda3/envs/nlp-project/lib/python3.9/site-packages (from requests->huggingface_hub) (2023.5.7)\n",
      "Requirement already satisfied: ipywidgets in /Users/koen/opt/anaconda3/envs/nlp-project/lib/python3.9/site-packages (8.0.4)\n",
      "Requirement already satisfied: ipython>=6.1.0 in /Users/koen/opt/anaconda3/envs/nlp-project/lib/python3.9/site-packages (from ipywidgets) (8.12.0)\n",
      "Requirement already satisfied: widgetsnbextension~=4.0 in /Users/koen/opt/anaconda3/envs/nlp-project/lib/python3.9/site-packages (from ipywidgets) (4.0.5)\n",
      "Requirement already satisfied: traitlets>=4.3.1 in /Users/koen/opt/anaconda3/envs/nlp-project/lib/python3.9/site-packages (from ipywidgets) (5.7.1)\n",
      "Requirement already satisfied: jupyterlab-widgets~=3.0 in /Users/koen/opt/anaconda3/envs/nlp-project/lib/python3.9/site-packages (from ipywidgets) (3.0.5)\n",
      "Requirement already satisfied: ipykernel>=4.5.1 in /Users/koen/opt/anaconda3/envs/nlp-project/lib/python3.9/site-packages (from ipywidgets) (6.19.2)\n",
      "Requirement already satisfied: packaging in /Users/koen/opt/anaconda3/envs/nlp-project/lib/python3.9/site-packages (from ipykernel>=4.5.1->ipywidgets) (23.0)\n",
      "Requirement already satisfied: comm>=0.1.1 in /Users/koen/opt/anaconda3/envs/nlp-project/lib/python3.9/site-packages (from ipykernel>=4.5.1->ipywidgets) (0.1.2)\n",
      "Requirement already satisfied: jupyter-client>=6.1.12 in /Users/koen/opt/anaconda3/envs/nlp-project/lib/python3.9/site-packages (from ipykernel>=4.5.1->ipywidgets) (8.1.0)\n",
      "Requirement already satisfied: debugpy>=1.0 in /Users/koen/opt/anaconda3/envs/nlp-project/lib/python3.9/site-packages (from ipykernel>=4.5.1->ipywidgets) (1.5.1)\n",
      "Requirement already satisfied: tornado>=6.1 in /Users/koen/opt/anaconda3/envs/nlp-project/lib/python3.9/site-packages (from ipykernel>=4.5.1->ipywidgets) (6.2)\n",
      "Requirement already satisfied: appnope in /Users/koen/opt/anaconda3/envs/nlp-project/lib/python3.9/site-packages (from ipykernel>=4.5.1->ipywidgets) (0.1.2)\n",
      "Requirement already satisfied: pyzmq>=17 in /Users/koen/opt/anaconda3/envs/nlp-project/lib/python3.9/site-packages (from ipykernel>=4.5.1->ipywidgets) (25.0.2)\n",
      "Requirement already satisfied: nest-asyncio in /Users/koen/opt/anaconda3/envs/nlp-project/lib/python3.9/site-packages (from ipykernel>=4.5.1->ipywidgets) (1.5.6)\n",
      "Requirement already satisfied: psutil in /Users/koen/opt/anaconda3/envs/nlp-project/lib/python3.9/site-packages (from ipykernel>=4.5.1->ipywidgets) (5.9.0)\n",
      "Requirement already satisfied: matplotlib-inline>=0.1 in /Users/koen/opt/anaconda3/envs/nlp-project/lib/python3.9/site-packages (from ipykernel>=4.5.1->ipywidgets) (0.1.6)\n"
     ]
    },
    {
     "name": "stdout",
     "output_type": "stream",
     "text": [
      "Requirement already satisfied: pygments>=2.4.0 in /Users/koen/opt/anaconda3/envs/nlp-project/lib/python3.9/site-packages (from ipython>=6.1.0->ipywidgets) (2.15.1)\n",
      "Requirement already satisfied: pickleshare in /Users/koen/opt/anaconda3/envs/nlp-project/lib/python3.9/site-packages (from ipython>=6.1.0->ipywidgets) (0.7.5)\n",
      "Requirement already satisfied: decorator in /Users/koen/opt/anaconda3/envs/nlp-project/lib/python3.9/site-packages (from ipython>=6.1.0->ipywidgets) (5.1.1)\n",
      "Requirement already satisfied: typing-extensions in /Users/koen/opt/anaconda3/envs/nlp-project/lib/python3.9/site-packages (from ipython>=6.1.0->ipywidgets) (4.5.0)\n",
      "Requirement already satisfied: prompt-toolkit!=3.0.37,<3.1.0,>=3.0.30 in /Users/koen/opt/anaconda3/envs/nlp-project/lib/python3.9/site-packages (from ipython>=6.1.0->ipywidgets) (3.0.36)\n",
      "Requirement already satisfied: stack-data in /Users/koen/opt/anaconda3/envs/nlp-project/lib/python3.9/site-packages (from ipython>=6.1.0->ipywidgets) (0.2.0)\n",
      "Requirement already satisfied: jedi>=0.16 in /Users/koen/opt/anaconda3/envs/nlp-project/lib/python3.9/site-packages (from ipython>=6.1.0->ipywidgets) (0.18.1)\n",
      "Requirement already satisfied: backcall in /Users/koen/opt/anaconda3/envs/nlp-project/lib/python3.9/site-packages (from ipython>=6.1.0->ipywidgets) (0.2.0)\n",
      "Requirement already satisfied: pexpect>4.3 in /Users/koen/opt/anaconda3/envs/nlp-project/lib/python3.9/site-packages (from ipython>=6.1.0->ipywidgets) (4.8.0)\n",
      "Requirement already satisfied: parso<0.9.0,>=0.8.0 in /Users/koen/opt/anaconda3/envs/nlp-project/lib/python3.9/site-packages (from jedi>=0.16->ipython>=6.1.0->ipywidgets) (0.8.3)\n",
      "Requirement already satisfied: importlib-metadata>=4.8.3 in /Users/koen/opt/anaconda3/envs/nlp-project/lib/python3.9/site-packages (from jupyter-client>=6.1.12->ipykernel>=4.5.1->ipywidgets) (6.0.0)\n",
      "Requirement already satisfied: python-dateutil>=2.8.2 in /Users/koen/opt/anaconda3/envs/nlp-project/lib/python3.9/site-packages (from jupyter-client>=6.1.12->ipykernel>=4.5.1->ipywidgets) (2.8.2)\n",
      "Requirement already satisfied: jupyter-core!=5.0.*,>=4.12 in /Users/koen/opt/anaconda3/envs/nlp-project/lib/python3.9/site-packages (from jupyter-client>=6.1.12->ipykernel>=4.5.1->ipywidgets) (5.3.0)\n",
      "Requirement already satisfied: ptyprocess>=0.5 in /Users/koen/opt/anaconda3/envs/nlp-project/lib/python3.9/site-packages (from pexpect>4.3->ipython>=6.1.0->ipywidgets) (0.7.0)\n",
      "Requirement already satisfied: wcwidth in /Users/koen/opt/anaconda3/envs/nlp-project/lib/python3.9/site-packages (from prompt-toolkit!=3.0.37,<3.1.0,>=3.0.30->ipython>=6.1.0->ipywidgets) (0.2.5)\n",
      "Requirement already satisfied: executing in /Users/koen/opt/anaconda3/envs/nlp-project/lib/python3.9/site-packages (from stack-data->ipython>=6.1.0->ipywidgets) (0.8.3)\n",
      "Requirement already satisfied: asttokens in /Users/koen/opt/anaconda3/envs/nlp-project/lib/python3.9/site-packages (from stack-data->ipython>=6.1.0->ipywidgets) (2.0.5)\n",
      "Requirement already satisfied: pure-eval in /Users/koen/opt/anaconda3/envs/nlp-project/lib/python3.9/site-packages (from stack-data->ipython>=6.1.0->ipywidgets) (0.2.2)\n",
      "Requirement already satisfied: zipp>=0.5 in /Users/koen/opt/anaconda3/envs/nlp-project/lib/python3.9/site-packages (from importlib-metadata>=4.8.3->jupyter-client>=6.1.12->ipykernel>=4.5.1->ipywidgets) (3.11.0)\n",
      "Requirement already satisfied: platformdirs>=2.5 in /Users/koen/opt/anaconda3/envs/nlp-project/lib/python3.9/site-packages (from jupyter-core!=5.0.*,>=4.12->jupyter-client>=6.1.12->ipykernel>=4.5.1->ipywidgets) (2.5.2)\n",
      "Requirement already satisfied: six>=1.5 in /Users/koen/opt/anaconda3/envs/nlp-project/lib/python3.9/site-packages (from python-dateutil>=2.8.2->jupyter-client>=6.1.12->ipykernel>=4.5.1->ipywidgets) (1.16.0)\n",
      "Requirement already satisfied: torch in /Users/koen/opt/anaconda3/envs/nlp-project/lib/python3.9/site-packages (1.13.1)\n",
      "Requirement already satisfied: typing-extensions in /Users/koen/opt/anaconda3/envs/nlp-project/lib/python3.9/site-packages (from torch) (4.5.0)\n"
     ]
    }
   ],
   "source": [
    "!pip install datasets\n",
    "!pip install huggingface_hub\n",
    "!pip install ipywidgets\n",
    "!pip install torch"
   ]
  },
  {
   "cell_type": "markdown",
   "id": "8bc91a25",
   "metadata": {},
   "source": [
    "# Logging into Huggingface"
   ]
  },
  {
   "cell_type": "code",
   "execution_count": 2,
   "id": "930a8a13",
   "metadata": {},
   "outputs": [
    {
     "name": "stdout",
     "output_type": "stream",
     "text": [
      "hi there?\n"
     ]
    }
   ],
   "source": [
    "# from huggingface_hub import notebook_login\n",
    "\n",
    "# notebook_login()\n",
    "print(\"hi there?\")"
   ]
  },
  {
   "cell_type": "markdown",
   "id": "01a13ac1",
   "metadata": {},
   "source": [
    "# Data Processing"
   ]
  },
  {
   "cell_type": "code",
   "execution_count": null,
   "id": "16739b5c",
   "metadata": {},
   "outputs": [],
   "source": [
    "import numpy as np\n",
    "import os\n",
    "import torch\n",
    "\n",
    "from datasets import load_dataset\n",
    "\n",
    "dataset = load_dataset('sst2')\n",
    "\n",
    "train_dataset      = dataset['train']\n",
    "test_dataset       = dataset['validation']\n",
    "\n",
    "embeddings_per_word = {}\n",
    "\n",
    "with open('glove.6B.100d.txt', 'r') as file: \n",
    "    for idx, line in enumerate(file):\n",
    "        word, *embedding_str = line.split()\n",
    "        embeddings_per_word[word] = torch.tensor(np.array(embedding_str, dtype='float32'))"
   ]
  },
  {
   "cell_type": "markdown",
   "id": "186e62a7",
   "metadata": {},
   "source": [
    "# Summing the Embedding Vectors"
   ]
  },
  {
   "cell_type": "code",
   "execution_count": null,
   "id": "e55daac7",
   "metadata": {},
   "outputs": [],
   "source": [
    "import torch\n",
    "\n",
    "device = torch.device('cuda' if torch.cuda.is_available() else 'cpu')\n",
    "\n",
    "def sum_embedding_vectors_for(dataset):\n",
    "    X = []\n",
    "    Y = []\n",
    "    \n",
    "    for entry in dataset:\n",
    "        words = [ w for w in entry['sentence'].split() if w in embeddings_per_word ]\n",
    "        \n",
    "        if len(words) == 0:\n",
    "            continue\n",
    "        \n",
    "        embeddings = [ embeddings_per_word[w] for w in words ]\n",
    "        embedding = torch.stack(embeddings).sum(dim=0)\n",
    "        \n",
    "        X.append(embedding)\n",
    "        Y.append(int(entry['label']))\n",
    "        \n",
    "    return torch.stack(X).to(device), torch.tensor(Y).to(device)\n",
    "        \n",
    "X_train, y_train = sum_embedding_vectors_for(train_dataset)\n",
    "X_test, y_test = sum_embedding_vectors_for(test_dataset)"
   ]
  },
  {
   "cell_type": "markdown",
   "id": "cc7445db",
   "metadata": {},
   "source": [
    "# Sentiment Classifier"
   ]
  },
  {
   "cell_type": "code",
   "execution_count": null,
   "id": "e65734ee",
   "metadata": {},
   "outputs": [],
   "source": [
    "import torch\n",
    "import torch.nn as nn\n",
    "import torch.optim as optim\n",
    "\n",
    "class SentimentClassifier(nn.Module):\n",
    "    def __init__(self, embedding_dim, hidden_dim, output_dim):\n",
    "        super(SentimentClassifier, self).__init__()\n",
    "\n",
    "        self.fc = nn.Linear(embedding_dim, hidden_dim)\n",
    "        self.output = nn.Linear(hidden_dim, output_dim)\n",
    "    \n",
    "    def forward(self, x):\n",
    "        x = self.fc(x)\n",
    "        x = self.output(x)\n",
    "\n",
    "        return x"
   ]
  },
  {
   "cell_type": "markdown",
   "id": "bdb09f33",
   "metadata": {},
   "source": [
    "# Training Loop"
   ]
  },
  {
   "cell_type": "code",
   "execution_count": null,
   "id": "39af1aa4",
   "metadata": {},
   "outputs": [],
   "source": [
    "embedding_dim = 100\n",
    "hidden_dim = 256\n",
    "output_dim = 2\n",
    "\n",
    "model = SentimentClassifier(embedding_dim, hidden_dim, output_dim).to(device)\n",
    "\n",
    "criterion = nn.CrossEntropyLoss()\n",
    "optimizer = optim.Adam(model.parameters(), lr=0.01)\n",
    "\n",
    "num_epochs = 20\n",
    "batch_size = 128\n",
    "accuracies = []\n",
    "\n",
    "for epoch in range(num_epochs):\n",
    "    model.train()\n",
    "\n",
    "    num_batches = len(X_train) // batch_size\n",
    "    for batch in range(num_batches):\n",
    "        start = batch * batch_size\n",
    "        end = start + batch_size\n",
    "        inputs = X_train[start:end]\n",
    "        labels = y_train[start:end]\n",
    "        \n",
    "        outputs = model(inputs)\n",
    "        loss = criterion(outputs, labels)\n",
    "        \n",
    "        optimizer.zero_grad()\n",
    "        loss.backward()\n",
    "        optimizer.step()\n",
    "    \n",
    "    model.eval()\n",
    "    \n",
    "    total = 0\n",
    "    correct = 0\n",
    "    \n",
    "    with torch.no_grad():\n",
    "        num_batches = len(X_test) // batch_size\n",
    "\n",
    "        for batch in range(num_batches):\n",
    "            start = batch * batch_size\n",
    "            end = start + batch_size\n",
    "            inputs = X_test[start:end]\n",
    "            labels = y_test[start:end]\n",
    "\n",
    "            outputs = model(inputs)\n",
    "            _, predicted = torch.max(outputs.data, 1)\n",
    "\n",
    "            total += labels.size(0)\n",
    "            correct += (predicted == labels).sum().item()\n",
    "\n",
    "    accuracies.append(correct / total * 100)\n",
    "    accuracy = sum(accuracies) / len(accuracies)\n",
    "    print(f'Epoch {epoch + 1}/{num_epochs}: {accuracy:.2f}% accuracy')"
   ]
  },
  {
   "cell_type": "markdown",
   "id": "02b2b729",
   "metadata": {},
   "source": [
    "# Saving the Model"
   ]
  },
  {
   "cell_type": "code",
   "execution_count": null,
   "id": "b71ba465",
   "metadata": {},
   "outputs": [],
   "source": [
    "import torch\n",
    "\n",
    "torch.save(\"models/embedding_model_v2.pth\")\n",
    "# torch.save(model.state_dict(), 'models/embedding_model.pth')"
   ]
  },
  {
   "cell_type": "code",
   "execution_count": null,
   "id": "3e088c6b",
   "metadata": {},
   "outputs": [],
   "source": []
  }
 ],
 "metadata": {
  "kernelspec": {
   "display_name": "Python 3",
   "language": "python",
   "name": "python3"
  },
  "language_info": {
   "codemirror_mode": {
    "name": "ipython",
    "version": 3
   },
   "file_extension": ".py",
   "mimetype": "text/x-python",
   "name": "python",
   "nbconvert_exporter": "python",
   "pygments_lexer": "ipython3",
   "version": "3.9.16"
  }
 },
 "nbformat": 4,
 "nbformat_minor": 5
}